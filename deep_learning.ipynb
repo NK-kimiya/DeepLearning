{
  "nbformat": 4,
  "nbformat_minor": 0,
  "metadata": {
    "colab": {
      "provenance": []
    },
    "kernelspec": {
      "name": "python3",
      "display_name": "Python 3"
    },
    "language_info": {
      "name": "python"
    }
  },
  "cells": [
    {
      "cell_type": "markdown",
      "source": [
        "## 人工ニューロン<br>\n",
        "・人間の脳の神経細胞(ニューロン)を数学的にまねたもの<br>\n",
        "###役割<br>\n",
        "入力された数字を重み(重要度)をかけて全部たしあわせて活性化関数で変換し、出力する流れ<br>\n",
        "<br>\n",
        "```\n",
        "(入力x1) →──┐\n",
        "(入力x2) →──┤   （重みw1,w2,w3をかけて合計）\n",
        "(入力x3) →──┘\n",
        "        ↓\n",
        "     バイアスbを足す\n",
        "        ↓\n",
        "    活性化関数で変換\n",
        "        ↓\n",
        "     出力yを出す\n",
        "  ```\n",
        "  <br>\n",
        "  重み：入力データの重要度<br>\n",
        "  バイアス：入力データがすべて0だった場合でも、「最低限、これくらいの値は受け取りたい」という値、出力を任意にずらして、柔軟な学習を可能にするパラメータ<br>\n",
        "  活性化関数：ニューロンからの出力を変換するための関数"
      ],
      "metadata": {
        "id": "eUaMRw26uSlm"
      }
    },
    {
      "cell_type": "code",
      "execution_count": 1,
      "metadata": {
        "colab": {
          "base_uri": "https://localhost:8080/"
        },
        "id": "ir19vuhQtqCR",
        "outputId": "7b0a603d-b990-431f-a5cc-99e695d410d5"
      },
      "outputs": [
        {
          "output_type": "stream",
          "name": "stdout",
          "text": [
            "ニューロンの出力: 0.55\n"
          ]
        }
      ],
      "source": [
        "import numpy as np\n",
        "\n",
        "#1つのニューロンが入力データの3つのデータを受け取り、出力をする流れ\n",
        "# 入力\n",
        "x = np.array([0.5, 0.3, 0.2])\n",
        "\n",
        "# 重み\n",
        "w = np.array([0.4, 0.7, 0.2])\n",
        "\n",
        "# バイアス\n",
        "b = 0.1\n",
        "\n",
        "# 活性化関数（ここではReLU：0以下なら0、正ならそのまま）\n",
        "def relu(x):\n",
        "    return np.maximum(0, x)\n",
        "\n",
        "# ニューロンの出力を計算\n",
        "z = np.dot(w, x) + b  # 入力と重みの積和 + バイアス\n",
        "y = relu(z)           # 活性化関数を通す\n",
        "\n",
        "print(f\"ニューロンの出力: {y}\")\n"
      ]
    },
    {
      "cell_type": "markdown",
      "source": [
        "## ニューラルネットワーク<br>\n",
        "人工ニューロンのニューロンを100個、1000個とたくさん並べる<br>\n",
        "入力データを、たくさんのニューロンが並列で処理できる。<br>\n",
        "これをまとめたものを「層(レイヤー)」と呼ぶ。<br>\n",
        "その層を繋ぎ合わせたものが、ニューラルネットワーク<br>\n",
        "\n",
        "|入力層|→|隠れ層（ニューロン100個）|→|出力層（ニューロン10個）|<br>\n",
        "\n",
        "入力層：入力データを受け取る層<br>\n",
        "隠れ層：入力を受け取り、内部的に変換する層（普通は何層も重ねる）<br>\n",
        "出力層：最終的な答えを出す層<br>\n",
        "<br>\n",
        "<br>\n",
        "## ディープラーニング<br>\n",
        "ニューラルネットワークをさらに**「層を深く」**したもの。<br>\n",
        "「Deep（深い）」＝隠れ層がたくさんあること<br>\n",
        "例えば下記のようにニューラルネットワークの層をさらに深くする<br>\n",
        "|入力層|→|隠れ層（ニューロン100個）|→|隠れ層（ニューロン200個）|→|隠れ層（ニューロン300個）|→|隠れ層（ニューロン400個）|→|隠れ層（ニューロン200個）|→|出力層（ニューロン10個）|<br>"
      ],
      "metadata": {
        "id": "lFy6DtzlxF0L"
      }
    },
    {
      "cell_type": "code",
      "source": [
        "# ニューラルネットワーク（1層）\n",
        "\n",
        "# 入力データ（x1, x2）\n",
        "x = [0.5, 0.8]  # 2次元\n",
        "\n",
        "# 重み（2入力 → 3ニューロン）\n",
        "weights = [\n",
        "    [0.1, 0.3],  # ニューロン1の重み\n",
        "    [0.2, 0.5],  # ニューロン2の重み\n",
        "    [0.4, 0.9]   # ニューロン3の重み\n",
        "]\n",
        "\n",
        "# バイアス（各ニューロン用）\n",
        "biases = [0.1, 0.2, 0.3]\n",
        "\n",
        "# 活性化関数（ここではReLU）\n",
        "def relu(z):\n",
        "    return max(0, z)\n",
        "\n",
        "# 隠れ層の出力を計算\n",
        "hidden_layer_outputs = []\n",
        "for w, b in zip(weights, biases):\n",
        "    z = w[0]*x[0] + w[1]*x[1] + b\n",
        "    a = relu(z)\n",
        "    hidden_layer_outputs.append(a)\n",
        "\n",
        "# 出力層（単純化：ニューロン1個）\n",
        "output_weights = [0.6, 0.7, 0.2]  # 3入力→1出力\n",
        "output_bias = 0.1\n",
        "\n",
        "# 出力層の計算\n",
        "z_output = sum(h * w for h, w in zip(hidden_layer_outputs, output_weights)) + output_bias\n",
        "y = relu(z_output)\n",
        "\n",
        "print(f\"最終出力: {y}\")\n"
      ],
      "metadata": {
        "colab": {
          "base_uri": "https://localhost:8080/"
        },
        "id": "bJ58DrlpzLjE",
        "outputId": "9ba62a5f-3506-475e-8689-268e459aa117"
      },
      "execution_count": 2,
      "outputs": [
        {
          "output_type": "stream",
          "name": "stdout",
          "text": [
            "最終出力: 1.068\n"
          ]
        }
      ]
    },
    {
      "cell_type": "code",
      "source": [
        "# 標準ライブラリだけでディープラーニング（2層）\n",
        "\n",
        "# 入力データ（x1, x2）\n",
        "x = [0.5, 0.8]  # 2次元\n",
        "\n",
        "# --- 隠れ層1（入力→3ニューロン） ---\n",
        "weights_layer1 = [\n",
        "    [0.1, 0.3],  # ニューロン1の重み\n",
        "    [0.2, 0.5],  # ニューロン2の重み\n",
        "    [0.4, 0.9]   # ニューロン3の重み\n",
        "]\n",
        "biases_layer1 = [0.1, 0.2, 0.3]\n",
        "\n",
        "# 活性化関数（ReLU）\n",
        "def relu(z):\n",
        "    return max(0, z)\n",
        "\n",
        "# 隠れ層1の出力を計算\n",
        "hidden1_outputs = []\n",
        "for w, b in zip(weights_layer1, biases_layer1):\n",
        "    z = w[0]*x[0] + w[1]*x[1] + b\n",
        "    a = relu(z)\n",
        "    hidden1_outputs.append(a)\n",
        "\n",
        "# --- 隠れ層2（3ニューロン→2ニューロン） ---\n",
        "weights_layer2 = [\n",
        "    [0.5, 0.6, 0.1],  # ニューロン1の重み\n",
        "    [0.8, 0.3, 0.2]   # ニューロン2の重み\n",
        "]\n",
        "biases_layer2 = [0.1, 0.2]\n",
        "\n",
        "# 隠れ層2の出力を計算\n",
        "hidden2_outputs = []\n",
        "for w, b in zip(weights_layer2, biases_layer2):\n",
        "    z = sum(wi * hi for wi, hi in zip(w, hidden1_outputs)) + b\n",
        "    a = relu(z)\n",
        "    hidden2_outputs.append(a)\n",
        "\n",
        "# --- 出力層（2ニューロン→1ニューロン） ---\n",
        "weights_output = [0.3, 0.7]\n",
        "bias_output = 0.1\n",
        "\n",
        "# 出力層の出力を計算\n",
        "z_output = sum(wi * hi for wi, hi in zip(weights_output, hidden2_outputs)) + bias_output\n",
        "y = relu(z_output)\n",
        "\n",
        "print(f\"最終出力: {y}\")\n"
      ],
      "metadata": {
        "colab": {
          "base_uri": "https://localhost:8080/"
        },
        "id": "cf2ROPlB0FK1",
        "outputId": "2e145f77-384c-4721-9d8d-dfb9320d9950"
      },
      "execution_count": 3,
      "outputs": [
        {
          "output_type": "stream",
          "name": "stdout",
          "text": [
            "最終出力: 1.0272999999999999\n"
          ]
        }
      ]
    },
    {
      "cell_type": "markdown",
      "source": [
        "## まとめ<br>\n",
        "ディープラーニングでは、入力データに対して重みを設定する。<br>\n",
        "設定した重みを使用して、入力データに何らかの処理を施しデータを加工する。<br>\n",
        "今回の場合は、入力データに重みを掛け合わせた値を足し合わせるといった処理をしたが、ディープラーニングの種類に応じて、加工の処理は異なる。<br>\n",
        "加工したのち、バイアスを足し合わせ、活性化関数で変換することで出力を行う。"
      ],
      "metadata": {
        "id": "u02nq8921RYE"
      }
    },
    {
      "cell_type": "code",
      "source": [],
      "metadata": {
        "id": "jpm1afD32hyh"
      },
      "execution_count": null,
      "outputs": []
    }
  ]
}